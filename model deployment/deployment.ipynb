{
 "cells": [
  {
   "cell_type": "code",
   "execution_count": 1,
   "id": "77e3e1bb-1752-430b-a0d0-4ae20742075a",
   "metadata": {
    "tags": []
   },
   "outputs": [
    {
     "name": "stderr",
     "output_type": "stream",
     "text": [
      "\n",
      "KeyboardInterrupt\n",
      "\n"
     ]
    }
   ],
   "source": [
    "#deployment model without use of scripts.\n",
    "import pandas as pd\n",
    "import numpy as np\n",
    "from sklearn.preprocessing import OneHotEncoder\n",
    "from sklearn.preprocessing import RobustScaler\n",
    "from sklearn.linear_model import Lasso\n",
    "from sklearn.feature_selection import RFE\n",
    "from sklearn.model_selection import train_test_split, GridSearchCV\n",
    "from sklearn.ensemble import GradientBoostingClassifier\n",
    "from sklearn.metrics import accuracy_score, classification_report, confusion_matrix, roc_curve, auc, precision_recall_curve, average_precision_score\n",
    "import matplotlib.pyplot as plt\n",
    "from sklearn.preprocessing import LabelEncoder"
   ]
  },
  {
   "cell_type": "code",
   "execution_count": null,
   "id": "46936903-2122-413a-9c03-4460f80d2871",
   "metadata": {
    "tags": []
   },
   "outputs": [],
   "source": [
    "#open file and clean\n",
    "file_path = '../data/Debernardi et al 2020 data.csv'\n",
    "data = pd.read_csv(file_path)\n",
    "encoder = OneHotEncoder(drop='first', sparse_output=False, dtype=int)  \n",
    "encoded_sex = encoder.fit_transform(data[['sex']])\n",
    "data['is_male'] = encoded_sex[:, 0]  # Access elements directly\n",
    "data.drop(columns=['sex', 'sample_id', 'patient_cohort', 'sample_origin', 'stage', 'benign_sample_diagnosis'], inplace=True)\n",
    "col_order = ['age', 'is_male', 'plasma_CA19_9', 'creatinine', 'LYVE1', 'REG1B', 'TFF1', 'REG1A', 'diagnosis']\n",
    "df = data[col_order]\n",
    "def classify_diagnosis(value):\n",
    "    if value in [1, 2]:\n",
    "        return '0'\n",
    "    else:\n",
    "        return '1'\n",
    "    df['diagnosis'] = df['diagnosis'].apply(classify_diagnosis)\n",
    "df['diagnosis'] = df['diagnosis'].apply(classify_diagnosis)\n",
    "X = df.iloc[:,:-1]\n",
    "y = df.iloc[:,-1]"
   ]
  },
  {
   "cell_type": "code",
   "execution_count": null,
   "id": "a75efc2e-e3d7-438d-827c-ee9bd0b69c13",
   "metadata": {
    "tags": []
   },
   "outputs": [],
   "source": [
    "#replace null with mean\n",
    "missing_value_columns = ['plasma_CA19_9', 'REG1A']\n",
    "def mean_missing(data):\n",
    "    df_copy = data.copy()\n",
    "    for column in missing_value_columns:\n",
    "        df_copy[column].fillna(df[column].mean(), inplace=True)\n",
    "    return df_copy\n",
    "X_imputed_df = mean_missing(X)"
   ]
  },
  {
   "cell_type": "code",
   "execution_count": null,
   "id": "c493d789-20ec-4d9f-bdc9-dd4acbaa8bae",
   "metadata": {
    "tags": []
   },
   "outputs": [],
   "source": [
    "#use robust scaling\n",
    "def robust_scaler(data):\n",
    "    scaler = RobustScaler()\n",
    "    transformed_data = scaler.fit_transform(data)\n",
    "    return transformed_data\n",
    "X_scaled = robust_scaler(X_imputed_df)\n",
    "X_scaled_df = pd.DataFrame(X_scaled, columns = X_imputed_df.columns)"
   ]
  },
  {
   "cell_type": "code",
   "execution_count": null,
   "id": "91d035dc-c6e6-4e58-b0d1-d3138e0d00a1",
   "metadata": {
    "tags": []
   },
   "outputs": [],
   "source": [
    "#use rfe feature selection\n",
    "def rfe_feature(X, y, n_features_to_select=5):\n",
    "    estimator = Lasso()\n",
    "    selector = RFE(estimator, n_features_to_select=n_features_to_select)\n",
    "    selector = selector.fit(X, y)\n",
    "    selected_features = X.columns[selector.support_]\n",
    "    return selected_features\n",
    "selected_features = rfe_feature(X_scaled_df, y, n_features_to_select = 6)"
   ]
  },
  {
   "cell_type": "code",
   "execution_count": null,
   "id": "b69a60f1-2ac7-455c-bf3c-82546a195277",
   "metadata": {},
   "outputs": [],
   "source": [
    "#data split\n",
    "X_train, X_test, y_train, y_test = train_test_split(X_scaled_df[selected_features], y, test_size=0.2, random_state=42)"
   ]
  },
  {
   "cell_type": "code",
   "execution_count": null,
   "id": "fc4f06b7-a4a6-409f-b53b-2c25fdbd63a2",
   "metadata": {
    "tags": []
   },
   "outputs": [],
   "source": [
    "#hyperparameters\n",
    "param_grid = {\n",
    "    'n_estimators': [50],\n",
    "    'learning_rate': [0.18],\n",
    "    'max_depth': [3],\n",
    "    'min_samples_split': [2],\n",
    "    'min_samples_leaf': [1],\n",
    "    'max_features': [None],\n",
    "    'subsample': [0.9],\n",
    "    'loss': ['exponential']\n",
    "}"
   ]
  },
  {
   "cell_type": "code",
   "execution_count": null,
   "id": "e6b42e35-050f-4f00-91a1-9138e7a4e645",
   "metadata": {
    "tags": []
   },
   "outputs": [],
   "source": [
    "#GBM model and Grid Search\n",
    "gbm_model = GradientBoostingClassifier(random_state=42)\n",
    "grid_search = GridSearchCV(gbm_model, param_grid, cv=5, scoring='accuracy')\n",
    "grid_search.fit(X_train, y_train)\n",
    "\n",
    "# Use the best model from Grid Search\n",
    "best_gbm_model = grid_search.best_estimator_"
   ]
  },
  {
   "cell_type": "code",
   "execution_count": null,
   "id": "50c6c21a-6da2-416a-a642-fe4ae1a0f3e5",
   "metadata": {
    "tags": []
   },
   "outputs": [],
   "source": [
    "from joblib import dump\n",
    "dump(best_gbm_model, 'best_gbm_model.joblib')"
   ]
  },
  {
   "cell_type": "code",
   "execution_count": null,
   "id": "96bf31b0-755b-4392-84ba-571325eba038",
   "metadata": {},
   "outputs": [],
   "source": []
  },
  {
   "cell_type": "code",
   "execution_count": null,
   "id": "8f3e4e87-dacf-4ebc-8060-4ef38dcd930d",
   "metadata": {
    "tags": []
   },
   "outputs": [],
   "source": [
    "from joblib import load\n",
    "from flask import Flask, request, jsonify"
   ]
  },
  {
   "cell_type": "code",
   "execution_count": null,
   "id": "d0c741ee-f6e5-48c5-9b7c-9b4baa555ddb",
   "metadata": {
    "tags": []
   },
   "outputs": [],
   "source": [
    "loaded_model = load('best_gbm_model.joblib')\n",
    "app = Flask(__name__)\n",
    "\n",
    "# Define an endpoint for making predictions\n",
    "@app.route('/predict', methods=['POST'])\n",
    "def predict():\n",
    "    data = request.get_json()\n",
    "    prediction_proba = model.predict_proba(data)\n",
    "\n",
    "    # Return the probability of class 1 (cancer)\n",
    "    probability_of_cancer = prediction_proba[:, 1]\n",
    "    return jsonify({'probability_of_cancer': probability_of_cancer.tolist()})\n",
    "\n",
    "# Run the Flask app\n",
    "if __name__ == '__main__':\n",
    "    app.run(debug=True)"
   ]
  },
  {
   "cell_type": "code",
   "execution_count": null,
   "id": "a8779b9b-a5ee-4545-a1e0-492c90d479ca",
   "metadata": {},
   "outputs": [],
   "source": [
    "!wget https://bin.equinox.io/c/4VmDzA7iaHb/ngrok-stable-linux-amd64.zip\n",
    "!unzip ngrok-stable-linux-amd64.zip"
   ]
  },
  {
   "cell_type": "code",
   "execution_count": null,
   "id": "63442263-494d-464c-832c-3576cb75895d",
   "metadata": {},
   "outputs": [],
   "source": [
    "# use ngrok to host local server for model\n",
    "!./ngrok http 5000"
   ]
  }
 ],
 "metadata": {
  "kernelspec": {
   "display_name": "Python 3 (ipykernel)",
   "language": "python",
   "name": "python3"
  },
  "language_info": {
   "codemirror_mode": {
    "name": "ipython",
    "version": 3
   },
   "file_extension": ".py",
   "mimetype": "text/x-python",
   "name": "python",
   "nbconvert_exporter": "python",
   "pygments_lexer": "ipython3",
   "version": "3.11.5"
  }
 },
 "nbformat": 4,
 "nbformat_minor": 5
}
