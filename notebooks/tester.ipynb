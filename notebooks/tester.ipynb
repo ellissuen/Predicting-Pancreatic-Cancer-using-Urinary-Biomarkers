{
 "cells": [
  {
   "cell_type": "markdown",
   "id": "38472c46-1d57-4f7b-a9d4-038cd0e59ab4",
   "metadata": {},
   "source": [
    "# Testing Space\n",
    "\n",
    "This notebook allows for the user to test out various combinations of data preprocessing techniques and classification models. Within the notebook there are comments to highlight areas where customizations can be made.<br>\n",
    "\n",
    "An example has already been set. In each step, at least 1 method must be kept for the model to function. Results are multiplicative, please limit the number of methods per step to avoid large computational time.<br>"
   ]
  },
  {
   "cell_type": "code",
   "execution_count": 68,
   "id": "3a832f45-283b-4531-aa06-ec39f30f21f2",
   "metadata": {
    "tags": []
   },
   "outputs": [],
   "source": [
    "# import the scripts folder\n",
    "import sys\n",
    "sys.path.append('../scripts')"
   ]
  },
  {
   "cell_type": "code",
   "execution_count": 78,
   "id": "e3bf63c3-defb-4402-b672-f5ea1707b865",
   "metadata": {
    "tags": []
   },
   "outputs": [],
   "source": [
    "from open_file import open_file\n",
    "import data_preprocessing\n",
    "import model_training\n",
    "import evaluation\n",
    "import pandas as pd\n",
    "\n",
    "from sklearn.linear_model import LogisticRegression\n",
    "from sklearn.ensemble import RandomForestClassifier, GradientBoostingClassifier\n",
    "from sklearn.svm import SVC\n",
    "from sklearn.neighbors import KNeighborsClassifier"
   ]
  },
  {
   "cell_type": "markdown",
   "id": "b906369e-be82-4db8-8ecc-a4678964a1e3",
   "metadata": {},
   "source": [
    "**CUSTOMIZATIONS can be made in this cell block**"
   ]
  },
  {
   "cell_type": "code",
   "execution_count": 84,
   "id": "576e7520-f645-4f95-b06f-fc40439fa791",
   "metadata": {
    "tags": []
   },
   "outputs": [],
   "source": [
    "##### Comment out modules that you do not want run \n",
    "\n",
    "# Define classify diagnosis (recommeneded to keep)\n",
    "# Classification task changed from [no cancer, benign, malignant] to [no cancer = 0, cancer = 1]\n",
    "classify_diagnosis = data_preprocessing.classify_diagnosis\n",
    "\n",
    "###### Step 1. Define the missing value imputation methods and their descriptions\n",
    "missing_value_functions = {\n",
    "    #data_preprocessing.remove_missing: \"Remove Missing Values\",\n",
    "    data_preprocessing.mean_missing: \"Replace with Mean\",\n",
    "    #data_preprocessing.knn_missing: \"Replace with KNN\"\n",
    "}\n",
    "\n",
    "###### Step 2. Define the scaling/normalization methods and their descriptions\n",
    "scaling_normalization_functions = {\n",
    "    #data_preprocessing.min_max_scaler: \"Min-Max Scaling\",\n",
    "    data_preprocessing.robust_scaler: \"Robust Scaling\",\n",
    "    #data_preprocessing.quant_transformation: \"Quantile Transformation\",\n",
    "    #data_preprocessing.log_transformation: \"Log Transformation\"\n",
    "}\n",
    "\n",
    "##### Step 3. Define the feature selection methods and their descriptions\n",
    "feature_selection_functions = {\n",
    "    data_preprocessing.rfe_feature: \"Recursive Feature Elimination\",\n",
    "    #data_preprocessing.pca_feature: \"Principal Component Analysis\",\n",
    "    #data_preprocessing.lasso_feature: \"Lasso Regularizer\",\n",
    "}\n",
    "\n",
    "##### Step 4. Define the data splitting methods and their descriptions\n",
    "data_splitting_functions = {\n",
    "    data_preprocessing.train_test_datasplit: \"Train Test Split\", \n",
    "    #data_preprocessing.repeated_k_fold_datasplit: \"Repeated K Fold\"\n",
    "}"
   ]
  },
  {
   "cell_type": "markdown",
   "id": "ab6bcc61-d150-49f5-913b-2f5eccccee5e",
   "metadata": {},
   "source": [
    "**CUSTOMIZATIONS can be made in this cell block**"
   ]
  },
  {
   "cell_type": "code",
   "execution_count": 85,
   "id": "86a1a1bd-76e5-47af-8118-5e55832ac3a2",
   "metadata": {
    "tags": []
   },
   "outputs": [],
   "source": [
    "##### Step 5. Define the model selection methods and their descriptions with hyperparameters\n",
    "\n",
    "classifiers = {\n",
    "#    \"Logistic Regression\": {\n",
    "#        \"model\": LogisticRegression(),\n",
    "#        \"params\": {\n",
    "#            \"C\": [0.1, 1, 10],\n",
    "#            \"max_iter\": [100, 200, 300]\n",
    "#        }\n",
    "#    },\n",
    "#    \"Random Forest\": {\n",
    "#        \"model\": RandomForestClassifier(),\n",
    "#        \"params\": {\n",
    "#            \"n_estimators\": [50, 100, 200],\n",
    "#            \"max_depth\": [None, 5, 10]\n",
    "#        }\n",
    "#   },\n",
    "    \"Gradient Boosting Machine\": {\n",
    "       \"model\": GradientBoostingClassifier(),\n",
    "        \"params\": {\n",
    "            \"n_estimators\": [50, 100, 200],\n",
    "            \"learning_rate\": [0.01, 0.1, 0.2]\n",
    "        }\n",
    "    },\n",
    "#    \"C-based Support Vector Classification\": {\n",
    "#        \"model\": SVC(),\n",
    "#        \"params\": {\n",
    "#            \"C\": [0.1, 1, 10],\n",
    "#            \"kernel\": [\"linear\", \"rbf\"]\n",
    "#        }\n",
    "#    },\n",
    "#    \"K-Nearest Neighbour Classification\": {\n",
    "#        \"model\": KNeighborsClassifier(),\n",
    "#        \"params\": {\n",
    "#            \"n_neighbors\": [3, 5, 10],\n",
    "#            \"weights\": [\"uniform\", \"distance\"]\n",
    "#        }\n",
    "#    }\n",
    "}"
   ]
  },
  {
   "cell_type": "code",
   "execution_count": 86,
   "id": "851a8392-cac5-438b-89f5-ace6e9eded3c",
   "metadata": {
    "tags": []
   },
   "outputs": [],
   "source": [
    "# Step 6. Model Reporting\n",
    "outcome_reporting = evaluation.outcome_reporting"
   ]
  },
  {
   "cell_type": "code",
   "execution_count": 87,
   "id": "c91059b6-68d5-464f-944c-6b11af901213",
   "metadata": {
    "tags": []
   },
   "outputs": [],
   "source": [
    "# original data (mostly)\n",
    "df = open_file()\n",
    "\n",
    "# converting diagnosis to boolean (ignore if commented out above)\n",
    "df['diagnosis'] = df['diagnosis'].apply(classify_diagnosis)\n",
    "\n",
    "# seperating X and y\n",
    "X = df.iloc[:,:-1]\n",
    "y = df.iloc[:,-1]"
   ]
  },
  {
   "cell_type": "markdown",
   "id": "3e074b16-65c9-498c-91cc-5124a031dc5e",
   "metadata": {},
   "source": [
    "**CUSTOMIZATIONS can be made in this cell block**"
   ]
  },
  {
   "cell_type": "code",
   "execution_count": 88,
   "id": "2344ae25-f9d8-4ace-b659-e9891f7a29b0",
   "metadata": {
    "tags": []
   },
   "outputs": [
    {
     "name": "stdout",
     "output_type": "stream",
     "text": [
      "Missing Value Imputation:\n",
      "{'Robust Scaling'}\n",
      "Scaling/Normalization: Recursive Feature Elimination\n",
      "-\n",
      "Feature Selection: Index(['plasma_CA19_9', 'creatinine', 'LYVE1', 'REG1B', 'TFF1', 'REG1A'], dtype='object'): Train Test Split\n",
      "-\n",
      "Data Split: Gradient Boosting Machine\n",
      "-\n",
      "Classification Model: {'model': GradientBoostingClassifier(), 'params': {'n_estimators': [50, 100, 200], 'learning_rate': [0.01, 0.1, 0.2]}}\n",
      "Best Parameters: Replace with Mean\n",
      "Accuracy: 0.9152542372881356\n",
      "              precision    recall  f1-score   support\n",
      "\n",
      "           0       0.93      0.95      0.94        80\n",
      "           1       0.89      0.84      0.86        38\n",
      "\n",
      "    accuracy                           0.92       118\n",
      "   macro avg       0.91      0.90      0.90       118\n",
      "weighted avg       0.91      0.92      0.91       118\n",
      "\n",
      "[[76  4]\n",
      " [ 6 32]]\n"
     ]
    },
    {
     "data": {
      "image/png": "[encoded data removed]",
      "text/plain": [
       "<Figure size 800x600 with 1 Axes>"
      ]
     },
     "metadata": {},
     "output_type": "display_data"
    },
    {
     "name": "stdout",
     "output_type": "stream",
     "text": [
      "\n",
      "--------------------------------------------------\n",
      "\n"
     ]
    }
   ],
   "source": [
    "##### paramters can be set here\n",
    "from sklearn.model_selection import GridSearchCV\n",
    "\n",
    "# missing data handling\n",
    "for missing_func, missing_desc in missing_value_functions.items():\n",
    "    X_imputed_df = missing_func(X).drop(['diagnosis'], axis=1)\n",
    "    \n",
    "    # ----------------------    \n",
    "    # scaling / normalization\n",
    "    for scaling_func, scaling_desc in scaling_normalization_functions.items():\n",
    "        X_transformed_data = scaling_func(X_imputed_df)\n",
    "        X_transformed_df = pd.DataFrame(X_transformed_data, columns=X_imputed_df.columns)\n",
    "        \n",
    "        # ---------------------- \n",
    "        # feature selection\n",
    "        for feature_func, feature_desc in feature_selection_functions.items():\n",
    "            \n",
    "            # Check if using Lasso\n",
    "            if feature_func == data_preprocessing.lasso_feature:  \n",
    "                ##### alpha can be set. default is 0.01\n",
    "                selected_features = feature_func(X_transformed_df, y, alpha=0.01)  \n",
    "            \n",
    "            # Check if using PCA\n",
    "            elif feature_func == data_preprocessing.pca_feature: \n",
    "                ##### n_components can be set. default is 3\n",
    "                pca = feature_func(X_transformed_df, n_components=3)\n",
    "                X_pca_transformed = pca.transform(X_transformed_df)\n",
    "                selected_features = X_transformed_df.columns  \n",
    "            \n",
    "            # Else using RFE\n",
    "            else:\n",
    "                ##### n_features_to_select can be set. default is 5\n",
    "                selected_features = feature_func(X_transformed_df, y, n_features_to_select=6)  \n",
    "            \n",
    "            # ---------------------- \n",
    "            # data splitting\n",
    "            splits = None\n",
    "            for split_func, split_desc in data_splitting_functions.items():\n",
    "                \n",
    "                # Check if using Train Test Split\n",
    "                if split_func == data_preprocessing.train_test_datasplit:\n",
    "                    ##### test_size can be set. default is 0.2\n",
    "                    X_train, X_test, y_train, y_test = split_func(X_transformed_df[selected_features], y, test_size = 0.2)\n",
    "\n",
    "                # Else using Repeated K Fold\n",
    "                # n_splits = 5, n_repeats = 2\n",
    "                else: \n",
    "                    splits = list(split_func(X_transformed_df[selected_features], y))\n",
    "                    \n",
    "                for model_name, model_desc in classifiers.items():\n",
    "                    classifier = model_desc[\"model\"]\n",
    "                    params = model_desc[\"params\"]\n",
    "\n",
    "                    clf = GridSearchCV(classifier, params, cv=5, scoring='accuracy')\n",
    "                    clf.fit(X_train, y_train)\n",
    "\n",
    "                    outcome_reporting(X_test, y_test, clf, missing_desc, scaling_desc, feature_desc, selected_features, split_desc, model_name, model_desc)"
   ]
  },
  {
   "cell_type": "markdown",
   "id": "3f92d0fc-c6a9-40f9-acb3-0fc4b9a45cdd",
   "metadata": {},
   "source": [
    "# Check\n",
    "* All missing value handlers work\n",
    "* All scalling methods work\n",
    "* All feature selection methods work\n",
    "* All data splitting methods work\n",
    "* All classifier models work (except for SVC)\n",
    "    * in testing SVC models were not too effective"
   ]
  }
 ],
 "metadata": {
  "kernelspec": {
   "display_name": "Python 3 (ipykernel)",
   "language": "python",
   "name": "python3"
  },
  "language_info": {
   "codemirror_mode": {
    "name": "ipython",
    "version": 3
   },
   "file_extension": ".py",
   "mimetype": "text/x-python",
   "name": "python",
   "nbconvert_exporter": "python",
   "pygments_lexer": "ipython3",
   "version": "3.11.5"
  }
 },
 "nbformat": 4,
 "nbformat_minor": 5
}
