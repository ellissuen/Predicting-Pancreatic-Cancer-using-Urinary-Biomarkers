{
 "cells": [
  {
   "cell_type": "markdown",
   "id": "1fb0b42f-2c3e-458d-b0dd-df8b61b4b10c",
   "metadata": {
    "tags": []
   },
   "source": [
    "# Final result\n",
    "After iterations of testers, the best models were taken and improved upon further by hyperparameter tuning. <br>\n",
    "\n",
    "Starting out with:\n",
    "* Replace missing values with mean\n",
    "* Robust scaler\n",
    "* Recursive Feature Elimination\n",
    "* Train Test Split\n",
    "* Gradient Boosting Classification                                "
   ]
  },
  {
   "cell_type": "code",
   "execution_count": 94,
   "id": "a7e37994-d733-4025-bafa-665f0b13137e",
   "metadata": {
    "tags": []
   },
   "outputs": [],
   "source": [
    "# import necessary modules\n",
    "\n",
    "import sys\n",
    "sys.path.append('../scripts')\n",
    "\n",
    "from open_file import open_file\n",
    "import data_preprocessing\n",
    "import model_training\n",
    "import evaluation\n",
    "import pandas as pd\n",
    "from sklearn.model_selection import train_test_split, GridSearchCV\n",
    "from sklearn.ensemble import GradientBoostingClassifier\n",
    "from sklearn.metrics import accuracy_score, classification_report, confusion_matrix, roc_curve, auc, precision_recall_curve, average_precision_score\n",
    "import matplotlib.pyplot as plt\n",
    "from sklearn.preprocessing import LabelEncoder"
   ]
  },
  {
   "cell_type": "code",
   "execution_count": 95,
   "id": "e650b27e-9fb0-4ef3-ad9f-821483ee1467",
   "metadata": {
    "tags": []
   },
   "outputs": [],
   "source": [
    "# Classification task changed from [no cancer, benign, malignant] to [no cancer = 0, cancer = 1]\n",
    "classify_diagnosis = data_preprocessing.classify_diagnosis\n",
    "\n",
    "# original data (mostly)\n",
    "df = open_file()\n",
    "\n",
    "# converting diagnosis to boolean (ignore if commented out above)\n",
    "df['diagnosis'] = df['diagnosis'].apply(classify_diagnosis)\n",
    "\n",
    "# seperating X and y\n",
    "X = df.iloc[:,:-1]\n",
    "y = df.iloc[:,-1]"
   ]
  },
  {
   "cell_type": "code",
   "execution_count": 96,
   "id": "1dac709e-4552-42fb-b7f9-534e9deb4068",
   "metadata": {
    "tags": []
   },
   "outputs": [
    {
     "data": {
      "text/html": [
       "<div>\n",
       "<style scoped>\n",
       "    .dataframe tbody tr th:only-of-type {\n",
       "        vertical-align: middle;\n",
       "    }\n",
       "\n",
       "    .dataframe tbody tr th {\n",
       "        vertical-align: top;\n",
       "    }\n",
       "\n",
       "    .dataframe thead th {\n",
       "        text-align: right;\n",
       "    }\n",
       "</style>\n",
       "<table border=\"1\" class=\"dataframe\">\n",
       "  <thead>\n",
       "    <tr style=\"text-align: right;\">\n",
       "      <th></th>\n",
       "      <th>age</th>\n",
       "      <th>is_male</th>\n",
       "      <th>plasma_CA19_9</th>\n",
       "      <th>creatinine</th>\n",
       "      <th>LYVE1</th>\n",
       "      <th>REG1B</th>\n",
       "      <th>TFF1</th>\n",
       "      <th>REG1A</th>\n",
       "    </tr>\n",
       "  </thead>\n",
       "  <tbody>\n",
       "    <tr>\n",
       "      <th>0</th>\n",
       "      <td>33</td>\n",
       "      <td>0</td>\n",
       "      <td>11.7</td>\n",
       "      <td>1.83222</td>\n",
       "      <td>0.893219</td>\n",
       "      <td>52.948840</td>\n",
       "      <td>654.282174</td>\n",
       "      <td>1262.000</td>\n",
       "    </tr>\n",
       "    <tr>\n",
       "      <th>1</th>\n",
       "      <td>81</td>\n",
       "      <td>0</td>\n",
       "      <td>NaN</td>\n",
       "      <td>0.97266</td>\n",
       "      <td>2.037585</td>\n",
       "      <td>94.467030</td>\n",
       "      <td>209.488250</td>\n",
       "      <td>228.407</td>\n",
       "    </tr>\n",
       "    <tr>\n",
       "      <th>2</th>\n",
       "      <td>51</td>\n",
       "      <td>1</td>\n",
       "      <td>7.0</td>\n",
       "      <td>0.78039</td>\n",
       "      <td>0.145589</td>\n",
       "      <td>102.366000</td>\n",
       "      <td>461.141000</td>\n",
       "      <td>NaN</td>\n",
       "    </tr>\n",
       "    <tr>\n",
       "      <th>3</th>\n",
       "      <td>61</td>\n",
       "      <td>1</td>\n",
       "      <td>8.0</td>\n",
       "      <td>0.70122</td>\n",
       "      <td>0.002805</td>\n",
       "      <td>60.579000</td>\n",
       "      <td>142.950000</td>\n",
       "      <td>NaN</td>\n",
       "    </tr>\n",
       "    <tr>\n",
       "      <th>4</th>\n",
       "      <td>62</td>\n",
       "      <td>1</td>\n",
       "      <td>9.0</td>\n",
       "      <td>0.21489</td>\n",
       "      <td>0.000860</td>\n",
       "      <td>65.540000</td>\n",
       "      <td>41.088000</td>\n",
       "      <td>NaN</td>\n",
       "    </tr>\n",
       "    <tr>\n",
       "      <th>...</th>\n",
       "      <td>...</td>\n",
       "      <td>...</td>\n",
       "      <td>...</td>\n",
       "      <td>...</td>\n",
       "      <td>...</td>\n",
       "      <td>...</td>\n",
       "      <td>...</td>\n",
       "      <td>...</td>\n",
       "    </tr>\n",
       "    <tr>\n",
       "      <th>585</th>\n",
       "      <td>68</td>\n",
       "      <td>1</td>\n",
       "      <td>NaN</td>\n",
       "      <td>0.52026</td>\n",
       "      <td>7.058209</td>\n",
       "      <td>156.241000</td>\n",
       "      <td>525.178000</td>\n",
       "      <td>NaN</td>\n",
       "    </tr>\n",
       "    <tr>\n",
       "      <th>586</th>\n",
       "      <td>71</td>\n",
       "      <td>0</td>\n",
       "      <td>NaN</td>\n",
       "      <td>0.85956</td>\n",
       "      <td>8.341207</td>\n",
       "      <td>16.915000</td>\n",
       "      <td>245.947000</td>\n",
       "      <td>NaN</td>\n",
       "    </tr>\n",
       "    <tr>\n",
       "      <th>587</th>\n",
       "      <td>63</td>\n",
       "      <td>1</td>\n",
       "      <td>NaN</td>\n",
       "      <td>1.36851</td>\n",
       "      <td>7.674707</td>\n",
       "      <td>289.701000</td>\n",
       "      <td>537.286000</td>\n",
       "      <td>NaN</td>\n",
       "    </tr>\n",
       "    <tr>\n",
       "      <th>588</th>\n",
       "      <td>75</td>\n",
       "      <td>0</td>\n",
       "      <td>NaN</td>\n",
       "      <td>1.33458</td>\n",
       "      <td>8.206777</td>\n",
       "      <td>205.930000</td>\n",
       "      <td>722.523000</td>\n",
       "      <td>NaN</td>\n",
       "    </tr>\n",
       "    <tr>\n",
       "      <th>589</th>\n",
       "      <td>74</td>\n",
       "      <td>1</td>\n",
       "      <td>1488.0</td>\n",
       "      <td>1.50423</td>\n",
       "      <td>8.200958</td>\n",
       "      <td>411.938275</td>\n",
       "      <td>2021.321078</td>\n",
       "      <td>13200.000</td>\n",
       "    </tr>\n",
       "  </tbody>\n",
       "</table>\n",
       "<p>590 rows × 8 columns</p>\n",
       "</div>"
      ],
      "text/plain": [
       "     age  is_male  plasma_CA19_9  creatinine     LYVE1       REG1B  \\\n",
       "0     33        0           11.7     1.83222  0.893219   52.948840   \n",
       "1     81        0            NaN     0.97266  2.037585   94.467030   \n",
       "2     51        1            7.0     0.78039  0.145589  102.366000   \n",
       "3     61        1            8.0     0.70122  0.002805   60.579000   \n",
       "4     62        1            9.0     0.21489  0.000860   65.540000   \n",
       "..   ...      ...            ...         ...       ...         ...   \n",
       "585   68        1            NaN     0.52026  7.058209  156.241000   \n",
       "586   71        0            NaN     0.85956  8.341207   16.915000   \n",
       "587   63        1            NaN     1.36851  7.674707  289.701000   \n",
       "588   75        0            NaN     1.33458  8.206777  205.930000   \n",
       "589   74        1         1488.0     1.50423  8.200958  411.938275   \n",
       "\n",
       "            TFF1      REG1A  \n",
       "0     654.282174   1262.000  \n",
       "1     209.488250    228.407  \n",
       "2     461.141000        NaN  \n",
       "3     142.950000        NaN  \n",
       "4      41.088000        NaN  \n",
       "..           ...        ...  \n",
       "585   525.178000        NaN  \n",
       "586   245.947000        NaN  \n",
       "587   537.286000        NaN  \n",
       "588   722.523000        NaN  \n",
       "589  2021.321078  13200.000  \n",
       "\n",
       "[590 rows x 8 columns]"
      ]
     },
     "execution_count": 96,
     "metadata": {},
     "output_type": "execute_result"
    }
   ],
   "source": [
    "X"
   ]
  },
  {
   "cell_type": "code",
   "execution_count": 97,
   "id": "04a37327-e5f4-4972-a2d9-3d612168ef7a",
   "metadata": {
    "tags": []
   },
   "outputs": [],
   "source": [
    "X_imputed_df = data_preprocessing.mean_missing(X)"
   ]
  },
  {
   "cell_type": "code",
   "execution_count": 98,
   "id": "03f9432f-c133-40e3-aad0-48a0788771be",
   "metadata": {
    "tags": []
   },
   "outputs": [],
   "source": [
    "X_scaled = data_preprocessing.robust_scaler(X_imputed_df)\n",
    "X_scaled_df = pd.DataFrame(X_scaled, columns = X_imputed_df.columns)"
   ]
  },
  {
   "cell_type": "code",
   "execution_count": 99,
   "id": "c018d3a8-d173-432e-ad26-1e5950bb49b2",
   "metadata": {
    "tags": []
   },
   "outputs": [
    {
     "data": {
      "text/plain": [
       "Index(['plasma_CA19_9', 'creatinine', 'LYVE1', 'REG1B', 'TFF1', 'REG1A'], dtype='object')"
      ]
     },
     "execution_count": 99,
     "metadata": {},
     "output_type": "execute_result"
    }
   ],
   "source": [
    "selected_features = data_preprocessing.rfe_feature(X_scaled_df, y, n_features_to_select = 6)\n",
    "selected_features"
   ]
  },
  {
   "cell_type": "code",
   "execution_count": 100,
   "id": "daa89beb-38b7-4a01-a700-c85b278b0235",
   "metadata": {
    "tags": []
   },
   "outputs": [],
   "source": [
    "X_train, X_test, y_train, y_test = train_test_split(X_scaled_df[selected_features], y, test_size=0.2, random_state=42)"
   ]
  },
  {
   "cell_type": "code",
   "execution_count": 28,
   "id": "b9cf7bb0-91b6-45fd-987c-21e98558d9bb",
   "metadata": {
    "tags": []
   },
   "outputs": [
    {
     "name": "stdout",
     "output_type": "stream",
     "text": [
      "Best Parameters: {'learning_rate': 0.2, 'loss': 'exponential', 'max_depth': 3, 'max_features': None, 'min_samples_leaf': 1, 'min_samples_split': 2, 'n_estimators': 50, 'subsample': 0.9}\n",
      "Best Score: 0.8770436730123181\n",
      "Accuracy: 0.9152542372881356\n"
     ]
    }
   ],
   "source": [
    "# Define hyperparameters for GBM\n",
    "param_grid = {\n",
    "    'n_estimators': [50, 100],\n",
    "    'learning_rate': [0.01, 0.1, 0.2],\n",
    "    'max_depth': [3, 5, 7],\n",
    "    'min_samples_split': [2, 5, 10],\n",
    "    'min_samples_leaf': [1, 2, 4],\n",
    "    'max_features': ['sqrt', 'log2', None],  # Adjusted to valid options\n",
    "    'subsample': [0.8, 0.9, 1.0],\n",
    "    'loss': ['exponential', 'log_loss']  # Adjusted to valid options\n",
    "}\n",
    "\n",
    "# Initialize GBM classifier\n",
    "gbm_model = GradientBoostingClassifier(random_state=42)\n",
    "\n",
    "# Perform Grid Search\n",
    "grid_search = GridSearchCV(gbm_model, param_grid, cv=5, scoring='accuracy')\n",
    "grid_search.fit(X_train, y_train)\n",
    "\n",
    "# Get the best parameters and best score\n",
    "best_params = grid_search.best_params_\n",
    "best_score = grid_search.best_score_\n",
    "\n",
    "print(f'Best Parameters: {best_params}')\n",
    "print(f'Best Score: {best_score}')\n",
    "\n",
    "# Use the best model from Grid Search\n",
    "best_gbm_model = grid_search.best_estimator_\n",
    "\n",
    "# Make predictions on the test data\n",
    "y_pred = best_gbm_model.predict(X_test)\n",
    "\n",
    "# Calculate accuracy\n",
    "accuracy = accuracy_score(y_test, y_pred)\n",
    "print(f'Accuracy: {accuracy}')"
   ]
  },
  {
   "cell_type": "code",
   "execution_count": 114,
   "id": "35c818e6-c77f-4648-8eb2-5a28ea0944a6",
   "metadata": {
    "tags": []
   },
   "outputs": [
    {
     "name": "stdout",
     "output_type": "stream",
     "text": [
      "Best Parameters: {'learning_rate': 0.18, 'loss': 'exponential', 'max_depth': 3, 'max_features': None, 'min_samples_leaf': 1, 'min_samples_split': 2, 'n_estimators': 50, 'subsample': 0.9}\n",
      "Best Score: 0.8494960806270997\n",
      "Accuracy: 0.940677966101695\n",
      "              precision    recall  f1-score   support\n",
      "\n",
      "           0       0.95      0.96      0.96        80\n",
      "           1       0.92      0.89      0.91        38\n",
      "\n",
      "    accuracy                           0.94       118\n",
      "   macro avg       0.93      0.93      0.93       118\n",
      "weighted avg       0.94      0.94      0.94       118\n",
      "\n",
      "[[77  3]\n",
      " [ 4 34]]\n"
     ]
    }
   ],
   "source": [
    "# Adjust Hyperparameters to increase accuracy\n",
    "param_grid = {\n",
    "    'n_estimators': [50],\n",
    "    'learning_rate': [0.18],\n",
    "    'max_depth': [3],\n",
    "    'min_samples_split': [2],\n",
    "    'min_samples_leaf': [1],\n",
    "    'max_features': [None],\n",
    "    'subsample': [0.9],\n",
    "    'loss': ['exponential']\n",
    "}\n",
    "\n",
    "# Initialize GBM classifier\n",
    "gbm_model = GradientBoostingClassifier(random_state=42)\n",
    "\n",
    "# Perform Grid Search\n",
    "grid_search = GridSearchCV(gbm_model, param_grid, cv=5, scoring='accuracy')\n",
    "grid_search.fit(X_train, y_train)\n",
    "\n",
    "# Get the best parameters and best score\n",
    "best_params = grid_search.best_params_\n",
    "best_score = grid_search.best_score_\n",
    "\n",
    "print(f'Best Parameters: {best_params}')\n",
    "print(f'Best Score: {best_score}')\n",
    "\n",
    "# Use the best model from Grid Search\n",
    "best_gbm_model = grid_search.best_estimator_\n",
    "\n",
    "# Make predictions on the test data\n",
    "y_pred = best_gbm_model.predict(X_test)\n",
    "\n",
    "conf_matrix = confusion_matrix(y_test, y_pred)\n",
    "\n",
    "# Calculate accuracy\n",
    "accuracy = accuracy_score(y_test, y_pred)\n",
    "print(f'Accuracy: {accuracy}')\n",
    "print(classification_report(y_test, y_pred))\n",
    "print(conf_matrix)"
   ]
  },
  {
   "cell_type": "code",
   "execution_count": 102,
   "id": "d0aa14c0-c9da-427d-990a-d48040f6368e",
   "metadata": {
    "tags": []
   },
   "outputs": [
    {
     "name": "stdout",
     "output_type": "stream",
     "text": [
      "Confusion Matrix Rates:\n",
      "------------------------\n",
      "          Predicted Negative       Predicted Positive       \n",
      "Actual Negative 96.25                    3.75                     \n",
      "Actual Positive 10.53                    89.47                    \n",
      "------------------------\n"
     ]
    }
   ],
   "source": [
    "# Confusion matrix into percent by actual values\n",
    "# Extracting values\n",
    "TN = conf_matrix[0, 0]\n",
    "FP = conf_matrix[0, 1]\n",
    "FN = conf_matrix[1, 0]\n",
    "TP = conf_matrix[1, 1]\n",
    "\n",
    "TNR = TN / (TN + FP) * 100  # Specificity\n",
    "FPR = FP / (TN + FP) * 100  # Fall-out\n",
    "FNR = FN / (FN + TP) * 100  # Miss rate\n",
    "TPR = TP / (FN + TP) * 100  # Sensitivity or Recall\n",
    "\n",
    "# Print the rates in a matrix format\n",
    "print(\"Confusion Matrix Rates:\")\n",
    "print(\"------------------------\")\n",
    "print(f\"{'':<10}{'Predicted Negative':<25}{'Predicted Positive':<25}\")\n",
    "print(f\"{'Actual Negative':<10} {TNR:<25.2f}{FPR:<25.2f}\")\n",
    "print(f\"{'Actual Positive':<10} {FNR:<25.2f}{TPR:<25.2f}\")\n",
    "print(\"------------------------\")"
   ]
  },
  {
   "cell_type": "code",
   "execution_count": 103,
   "id": "bcbf292f-de7f-4507-b1c5-431d9b217257",
   "metadata": {
    "tags": []
   },
   "outputs": [
    {
     "data": {
      "image/png": "[encoded data removed]",
      "text/plain": [
       "<Figure size 800x600 with 1 Axes>"
      ]
     },
     "metadata": {},
     "output_type": "display_data"
    }
   ],
   "source": [
    "# ROC curve from the best fitting model\n",
    "y_pred = best_gbm_model.predict(X_test)\n",
    "accuracy = accuracy_score(y_test, y_pred)\n",
    "\n",
    "# Calculate the ROC curve and AUC\n",
    "y_probs = best_gbm_model.predict_proba(X_test)[:, 1]  # Predicted probabilities for class 1\n",
    "label_encoder = LabelEncoder()\n",
    "y_test_numerical = label_encoder.fit_transform(y_test)\n",
    "\n",
    "fpr, tpr, thresholds = roc_curve(y_test_numerical, y_probs)\n",
    "roc_auc = auc(fpr, tpr)\n",
    "\n",
    "# Print ROC curve\n",
    "plt.figure(figsize=(8, 6))\n",
    "plt.plot(fpr, tpr, color='blue', lw=2, label='ROC curve (AUC = %0.2f)' % roc_auc)\n",
    "plt.plot([0, 1], [0, 1], color='gray', linestyle='--')\n",
    "plt.xlim([0.0, 1.0])\n",
    "plt.ylim([0.0, 1.05])\n",
    "plt.xlabel('False Positive Rate')\n",
    "plt.ylabel('True Positive Rate')\n",
    "plt.title('Receiver Operating Characteristic (ROC) Curve')\n",
    "plt.legend(loc='lower right')\n",
    "plt.show()"
   ]
  },
  {
   "cell_type": "code",
   "execution_count": 104,
   "id": "41b10dc3-940d-43f0-b3e1-7f6db9b0404f",
   "metadata": {
    "tags": []
   },
   "outputs": [
    {
     "data": {
      "image/png": "[encoded data removed]",
      "text/plain": [
       "<Figure size 640x480 with 1 Axes>"
      ]
     },
     "metadata": {},
     "output_type": "display_data"
    }
   ],
   "source": [
    "# precision- recall curve\n",
    "\n",
    "# convert to numeric type\n",
    "y_test_binary = y_test.astype(int)\n",
    "y_pred_numeric = y_pred.astype(float)\n",
    "\n",
    "precision, recall, thresholds = precision_recall_curve(y_test_binary, y_pred_numeric)\n",
    "avg_precision = average_precision_score(y_test_binary, y_pred_numeric)\n",
    "\n",
    "# Plot precision-recall curve\n",
    "plt.figure()\n",
    "plt.plot(recall, precision, marker='.')\n",
    "plt.xlabel('Recall')\n",
    "plt.ylabel('Precision')\n",
    "plt.title('Precision-Recall Curve (AP={:.2f})'.format(avg_precision))\n",
    "plt.grid(True)\n",
    "plt.show()"
   ]
  },
  {
   "cell_type": "code",
   "execution_count": 105,
   "id": "754624de-501e-4188-baf7-7cda175fa562",
   "metadata": {
    "tags": []
   },
   "outputs": [
    {
     "data": {
      "image/png": "[encoded data removed]",
      "text/plain": [
       "<Figure size 1000x600 with 1 Axes>"
      ]
     },
     "metadata": {},
     "output_type": "display_data"
    }
   ],
   "source": [
    "features = ['plasma_CA19_9', 'creatinine', 'LYVE1', 'REG1B', 'TFF1', 'REG1A']\n",
    "feature_importance = best_gbm_model.feature_importances_\n",
    "\n",
    "feature_importance_combined = list(zip(features, feature_importance))\n",
    "\n",
    "# Sort features by importance weight\n",
    "feature_importance_combined.sort(key=lambda x: x[1], reverse=True)\n",
    "\n",
    "# Unzip sorted features and importance scores\n",
    "sorted_features, sorted_importance = zip(*feature_importance_combined)\n",
    "\n",
    "# Create a bar plot\n",
    "plt.figure(figsize=(10, 6))\n",
    "plt.bar(sorted_features, sorted_importance, color=(0, 0, 0.5))\n",
    "\n",
    "# Add labels and title\n",
    "plt.xticks(rotation=90)\n",
    "plt.xlabel('Features')\n",
    "plt.ylabel('Importance Score')\n",
    "plt.title('Feature Importance')\n",
    "\n",
    "# Rotate x-axis labels for better readability\n",
    "plt.xticks(rotation=45, ha='right')\n",
    "\n",
    "# Show plot\n",
    "plt.tight_layout()\n",
    "plt.show()"
   ]
  },
  {
   "cell_type": "markdown",
   "id": "30082b57-8ef6-4d42-8812-d9aa5ac4de81",
   "metadata": {},
   "source": [
    "# Results\n",
    "\n",
    "After tuning hyperparameters the best model - giving a balance between TRUE POSITIVE RATE and TRUE NEGATIVE RATE was achieved. <br>\n",
    "\n",
    "It had the following parameters:\n",
    "* Missing Value Imputer: Mean\n",
    "* Scaling / Normalization: Robust Scaling\n",
    "* Feature Selection: Recursive Feature Elimination\n",
    "* Data Splitting: Train Test Split\n",
    "* Classification Model: Gradient Boosting Classification\n",
    "    * Learning Rate: 0.18\n",
    "    * Loss: exponential\n",
    "    * Max_depth: 3\n",
    "    * Max_features: None\n",
    "    * Min_samples_lead: 1\n",
    "    * Min_samples_split: 2\n",
    "    * N_estimators: 50\n",
    "    * Subsample: 0.9\n",
    "    \n",
    "With the following results:\n",
    "* Accuracy: 94.1%\n",
    "* Predicting 0 (no cancer)\n",
    "    * Precision: 0.95\n",
    "    * Recall: 0.96\n",
    "    * F1 - score: 0.96\n",
    "* Predicting 1 (cancer)\n",
    "    * Precision: 0.92\n",
    "    * Recall: 0.89\n",
    "    * F1 - score: 0.91\n",
    "\n",
    "For the given model, it was optimize to both account for FALSE POSITIVE RATE AND FALSE NEGATIVE RATE since both are harmful in their own way. <br>\n",
    "\n",
    "The features most important to this model were LYVE1 and plasma_CA19_9 <br>\n",
    "\n",
    "More conclusions can be found in the README.md"
   ]
  },
  {
   "cell_type": "code",
   "execution_count": null,
   "id": "da01588a-e06e-4aed-9c7e-37fb56858719",
   "metadata": {},
   "outputs": [],
   "source": []
  }
 ],
 "metadata": {
  "kernelspec": {
   "display_name": "Python 3 (ipykernel)",
   "language": "python",
   "name": "python3"
  },
  "language_info": {
   "codemirror_mode": {
    "name": "ipython",
    "version": 3
   },
   "file_extension": ".py",
   "mimetype": "text/x-python",
   "name": "python",
   "nbconvert_exporter": "python",
   "pygments_lexer": "ipython3",
   "version": "3.11.5"
  }
 },
 "nbformat": 4,
 "nbformat_minor": 5
}
